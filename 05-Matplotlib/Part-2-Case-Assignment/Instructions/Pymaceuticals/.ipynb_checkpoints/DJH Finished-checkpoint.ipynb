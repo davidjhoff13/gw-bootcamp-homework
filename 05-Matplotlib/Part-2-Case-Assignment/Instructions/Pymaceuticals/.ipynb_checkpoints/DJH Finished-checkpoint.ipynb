{
 "cells": [
  {
   "cell_type": "markdown",
   "metadata": {},
   "source": [
    "## Observations and Insights "
   ]
  },
  {
   "cell_type": "markdown",
   "metadata": {},
   "source": []
  },
  {
   "cell_type": "code",
   "execution_count": null,
   "metadata": {},
   "outputs": [],
   "source": [
    "#Observations:\n",
    "\n",
    "#1. The data from the trials show that Capomulin and Ramicane are the most promising treatment in \n",
    "#mice. #For both drugs, the volume of the tumors shrank more than the other drugs. What's more, \n",
    "#the results #were consistent across mice, as seen by the smaller standard of error and standard \n",
    "#deviation across treatments.\n",
    "#2. The 0.84 correlation between mouse weight and tumor volume is an important finding. With such\n",
    "#a close correlation, designers could experiment with dosages by weight to determine the efficacy \n",
    "#of the drug.  \n",
    "#3. I conducted two analyses of tumor volume at the end of treatment among the four most promising\n",
    "#drugs. The one that calculated the volume of mice that completed all stages found that none of \n",
    "#the drugs had outliers. The other one identified only one outlier in one drug.\n"
   ]
  },
  {
   "cell_type": "code",
   "execution_count": 145,
   "metadata": {},
   "outputs": [],
   "source": [
    "# Dependencies and Setup\n",
    "import matplotlib.pyplot as plt\n",
    "import pandas as pd\n",
    "import numpy as np\n",
    "import scipy.stats as st\n",
    "from scipy.stats import linregress\n",
    "\n",
    "# Study data files\n",
    "mouse_metadata_path = \"data/Mouse_metadata.csv\"\n",
    "study_results_path = \"data/Study_results.csv\"\n",
    "\n",
    "# Read the mouse data and the study results\n",
    "mouse_metadata = pd.read_csv(mouse_metadata_path)\n",
    "study_results = pd.read_csv(study_results_path)\n",
    "\n",
    "# Combine the data into a single dataset\n",
    "pharma_merge = pd.merge(mouse_metadata, study_results, on='Mouse ID', how='outer')\n",
    "\n"
   ]
  },
  {
   "cell_type": "code",
   "execution_count": 146,
   "metadata": {},
   "outputs": [
    {
     "data": {
      "text/plain": [
       "249"
      ]
     },
     "execution_count": 146,
     "metadata": {},
     "output_type": "execute_result"
    }
   ],
   "source": [
    "# Checking the number of mice in the DataFrame.\n",
    "#mouse_count = pharma_merge['Mouse ID'].count()\n",
    "pharma_merge[\"Mouse ID\"].nunique()\n",
    "\n",
    "#unique_mouse = pharma_merge['Mouse ID'].unique\n",
    "\n",
    "#unique_mouse"
   ]
  },
  {
   "cell_type": "code",
   "execution_count": 147,
   "metadata": {
    "scrolled": true
   },
   "outputs": [
    {
     "name": "stdout",
     "output_type": "stream",
     "text": [
      "    Mouse ID Drug Regimen     Sex  Age_months  Weight (g)  Timepoint  \\\n",
      "909     g989     Propriva  Female          21          26          0   \n",
      "911     g989     Propriva  Female          21          26          5   \n",
      "913     g989     Propriva  Female          21          26         10   \n",
      "915     g989     Propriva  Female          21          26         15   \n",
      "917     g989     Propriva  Female          21          26         20   \n",
      "\n",
      "     Tumor Volume (mm3)  Metastatic Sites  \n",
      "909           45.000000                 0  \n",
      "911           47.570392                 0  \n",
      "913           49.880528                 0  \n",
      "915           53.442020                 0  \n",
      "917           54.657650                 1  \n"
     ]
    }
   ],
   "source": [
    "# Getting the duplicate mice by ID number that shows up for Mouse ID and Timepoint. \n",
    "# Find a duplicate rows\n",
    "duplicateDFRow = pharma_merge[pharma_merge.duplicated(['Mouse ID', 'Timepoint'])]\n",
    "print(duplicateDFRow)"
   ]
  },
  {
   "cell_type": "code",
   "execution_count": 4,
   "metadata": {},
   "outputs": [],
   "source": [
    "# Optional: Get all the data for the duplicate mouse ID. \n"
   ]
  },
  {
   "cell_type": "code",
   "execution_count": 148,
   "metadata": {},
   "outputs": [
    {
     "name": "stdout",
     "output_type": "stream",
     "text": [
      "    Mouse ID Drug Regimen     Sex  Age_months  Weight (g)  Timepoint  \\\n",
      "909     g989     Propriva  Female          21          26          0   \n",
      "911     g989     Propriva  Female          21          26          5   \n",
      "913     g989     Propriva  Female          21          26         10   \n",
      "915     g989     Propriva  Female          21          26         15   \n",
      "917     g989     Propriva  Female          21          26         20   \n",
      "\n",
      "     Tumor Volume (mm3)  Metastatic Sites  \n",
      "909           45.000000                 0  \n",
      "911           47.570392                 0  \n",
      "913           49.880528                 0  \n",
      "915           53.442020                 0  \n",
      "917           54.657650                 1  \n"
     ]
    }
   ],
   "source": [
    "# Create a clean DataFrame by dropping the duplicate mouse by its ID.\n",
    "duplicateDFRow = pharma_merge[pharma_merge.duplicated(['Mouse ID', 'Timepoint'])]\n",
    "print(duplicateDFRow)\n",
    "pharma_merge.set_index('Mouse ID', inplace=True)\n",
    "pharma_merge.drop('g989', inplace=True)\n",
    "pharma_merge.reset_index(inplace=True)\n"
   ]
  },
  {
   "cell_type": "code",
   "execution_count": 149,
   "metadata": {},
   "outputs": [
    {
     "data": {
      "text/plain": [
       "248"
      ]
     },
     "execution_count": 149,
     "metadata": {},
     "output_type": "execute_result"
    }
   ],
   "source": [
    "# Checking the number of mice in the clean DataFrame.\n",
    "pharma_merge[\"Mouse ID\"].nunique()"
   ]
  },
  {
   "cell_type": "code",
   "execution_count": 150,
   "metadata": {},
   "outputs": [
    {
     "data": {
      "text/plain": [
       "Capomulin    230\n",
       "Ramicane     228\n",
       "Ketapril     188\n",
       "Naftisol     186\n",
       "Zoniferol    182\n",
       "Stelasyn     181\n",
       "Placebo      181\n",
       "Ceftamin     178\n",
       "Infubinol    178\n",
       "Propriva     148\n",
       "Name: Drug Regimen, dtype: int64"
      ]
     },
     "execution_count": 150,
     "metadata": {},
     "output_type": "execute_result"
    }
   ],
   "source": [
    "pharma_merge['Drug Regimen'].value_counts()"
   ]
  },
  {
   "cell_type": "markdown",
   "metadata": {},
   "source": [
    "### Summary Statistics"
   ]
  },
  {
   "cell_type": "code",
   "execution_count": 151,
   "metadata": {},
   "outputs": [
    {
     "data": {
      "text/html": [
       "<div>\n",
       "<style scoped>\n",
       "    .dataframe tbody tr th:only-of-type {\n",
       "        vertical-align: middle;\n",
       "    }\n",
       "\n",
       "    .dataframe tbody tr th {\n",
       "        vertical-align: top;\n",
       "    }\n",
       "\n",
       "    .dataframe thead th {\n",
       "        text-align: right;\n",
       "    }\n",
       "</style>\n",
       "<table border=\"1\" class=\"dataframe\">\n",
       "  <thead>\n",
       "    <tr style=\"text-align: right;\">\n",
       "      <th></th>\n",
       "      <th>Drug Regimen</th>\n",
       "      <th>Tumor Volume Mean</th>\n",
       "      <th>Tumor Volume Median</th>\n",
       "      <th>Tumor Volume Variance</th>\n",
       "      <th>Tumor Volume St. Dev.</th>\n",
       "      <th>Tumor Volume St. Err.</th>\n",
       "    </tr>\n",
       "  </thead>\n",
       "  <tbody>\n",
       "    <tr>\n",
       "      <th>0</th>\n",
       "      <td>Capomulin</td>\n",
       "      <td>40.675741</td>\n",
       "      <td>41.557809</td>\n",
       "      <td>24.947764</td>\n",
       "      <td>4.994774</td>\n",
       "      <td>0.329346</td>\n",
       "    </tr>\n",
       "    <tr>\n",
       "      <th>1</th>\n",
       "      <td>Ceftamin</td>\n",
       "      <td>52.591172</td>\n",
       "      <td>51.776157</td>\n",
       "      <td>39.290177</td>\n",
       "      <td>6.268188</td>\n",
       "      <td>0.469821</td>\n",
       "    </tr>\n",
       "    <tr>\n",
       "      <th>2</th>\n",
       "      <td>Infubinol</td>\n",
       "      <td>52.884795</td>\n",
       "      <td>51.820584</td>\n",
       "      <td>43.128684</td>\n",
       "      <td>6.567243</td>\n",
       "      <td>0.492236</td>\n",
       "    </tr>\n",
       "    <tr>\n",
       "      <th>3</th>\n",
       "      <td>Ketapril</td>\n",
       "      <td>55.235638</td>\n",
       "      <td>53.698743</td>\n",
       "      <td>68.553577</td>\n",
       "      <td>8.279709</td>\n",
       "      <td>0.603860</td>\n",
       "    </tr>\n",
       "    <tr>\n",
       "      <th>4</th>\n",
       "      <td>Naftisol</td>\n",
       "      <td>54.331565</td>\n",
       "      <td>52.509285</td>\n",
       "      <td>66.173479</td>\n",
       "      <td>8.134708</td>\n",
       "      <td>0.596466</td>\n",
       "    </tr>\n",
       "    <tr>\n",
       "      <th>5</th>\n",
       "      <td>Placebo</td>\n",
       "      <td>54.033581</td>\n",
       "      <td>52.288934</td>\n",
       "      <td>61.168083</td>\n",
       "      <td>7.821003</td>\n",
       "      <td>0.581331</td>\n",
       "    </tr>\n",
       "    <tr>\n",
       "      <th>6</th>\n",
       "      <td>Propriva</td>\n",
       "      <td>52.320930</td>\n",
       "      <td>50.446266</td>\n",
       "      <td>43.852013</td>\n",
       "      <td>6.622085</td>\n",
       "      <td>0.544332</td>\n",
       "    </tr>\n",
       "    <tr>\n",
       "      <th>7</th>\n",
       "      <td>Ramicane</td>\n",
       "      <td>40.216745</td>\n",
       "      <td>40.673236</td>\n",
       "      <td>23.486704</td>\n",
       "      <td>4.846308</td>\n",
       "      <td>0.320955</td>\n",
       "    </tr>\n",
       "    <tr>\n",
       "      <th>8</th>\n",
       "      <td>Stelasyn</td>\n",
       "      <td>54.233149</td>\n",
       "      <td>52.431737</td>\n",
       "      <td>59.450562</td>\n",
       "      <td>7.710419</td>\n",
       "      <td>0.573111</td>\n",
       "    </tr>\n",
       "    <tr>\n",
       "      <th>9</th>\n",
       "      <td>Zoniferol</td>\n",
       "      <td>53.236507</td>\n",
       "      <td>51.818479</td>\n",
       "      <td>48.533355</td>\n",
       "      <td>6.966589</td>\n",
       "      <td>0.516398</td>\n",
       "    </tr>\n",
       "  </tbody>\n",
       "</table>\n",
       "</div>"
      ],
      "text/plain": [
       "  Drug Regimen  Tumor Volume Mean  Tumor Volume Median  Tumor Volume Variance  \\\n",
       "0    Capomulin          40.675741            41.557809              24.947764   \n",
       "1     Ceftamin          52.591172            51.776157              39.290177   \n",
       "2    Infubinol          52.884795            51.820584              43.128684   \n",
       "3     Ketapril          55.235638            53.698743              68.553577   \n",
       "4     Naftisol          54.331565            52.509285              66.173479   \n",
       "5      Placebo          54.033581            52.288934              61.168083   \n",
       "6     Propriva          52.320930            50.446266              43.852013   \n",
       "7     Ramicane          40.216745            40.673236              23.486704   \n",
       "8     Stelasyn          54.233149            52.431737              59.450562   \n",
       "9    Zoniferol          53.236507            51.818479              48.533355   \n",
       "\n",
       "   Tumor Volume St. Dev.  Tumor Volume St. Err.  \n",
       "0               4.994774               0.329346  \n",
       "1               6.268188               0.469821  \n",
       "2               6.567243               0.492236  \n",
       "3               8.279709               0.603860  \n",
       "4               8.134708               0.596466  \n",
       "5               7.821003               0.581331  \n",
       "6               6.622085               0.544332  \n",
       "7               4.846308               0.320955  \n",
       "8               7.710419               0.573111  \n",
       "9               6.966589               0.516398  "
      ]
     },
     "execution_count": 151,
     "metadata": {},
     "output_type": "execute_result"
    }
   ],
   "source": [
    "# Generate a summary statistics table of mean, median, variance, standard deviation, and SEM of the tumor volume for each regimen\n",
    "\n",
    "# Generate a summary statistics table of mean, median, variance, standard deviation, \\n\",\n",
    "#and SEM of the tumor volume for each regimen\\n\",\n",
    "   \n",
    "summarystats_df_mean = pd.DataFrame(pharma_merge.groupby(['Drug Regimen'])['Tumor Volume (mm3)'].mean())\n",
    "summarystats_df_mean = summarystats_df_mean.rename(columns={'Tumor Volume (mm3)':'Tumor Volume Mean'})\n",
    "summarystats_df_mean = summarystats_df_mean.reset_index()\n",
    "\n",
    "summarystats_df_median = pd.DataFrame(pharma_merge.groupby(['Drug Regimen'])['Tumor Volume (mm3)'].median())\n",
    "summarystats_df_median = summarystats_df_median.rename(columns={'Tumor Volume (mm3)':'Tumor Volume Median'})\n",
    "summarystats_df_median = summarystats_df_median.reset_index()\n",
    "\n",
    "summarystats_df_median\n",
    "\n",
    "summarystats_df_var = pd.DataFrame(pharma_merge.groupby(['Drug Regimen'])['Tumor Volume (mm3)'].var())\n",
    "summarystats_df_var = summarystats_df_var.rename(columns={'Tumor Volume (mm3)':'Tumor Volume Variance'})\n",
    "summarystats_df_var = summarystats_df_var.reset_index()\n",
    "\n",
    "\n",
    "\n",
    "summarystats_df_std = pd.DataFrame(pharma_merge.groupby(['Drug Regimen'])['Tumor Volume (mm3)'].std())\n",
    "summarystats_df_std = summarystats_df_std.rename(columns={'Tumor Volume (mm3)':'Tumor Volume St. Dev.'})\n",
    "summarystats_df_std = summarystats_df_std.reset_index()\n",
    "\n",
    "summarystats_df_sem = pd.DataFrame(pharma_merge.groupby(['Drug Regimen'])['Tumor Volume (mm3)'].sem())\n",
    "summarystats_df_sem = summarystats_df_sem.rename(columns={'Tumor Volume (mm3)':'Tumor Volume St. Err.'})\n",
    "summarystats_df_sem = summarystats_df_sem.reset_index()\n",
    "\n",
    "summary_merge = pd.merge(summarystats_df_mean, summarystats_df_median, on='Drug Regimen')\n",
    "summary_merge = pd.merge(summary_merge, summarystats_df_var, on='Drug Regimen')\n",
    "summary_merge = pd.merge(summary_merge, summarystats_df_std, on='Drug Regimen')\n",
    "summary_merge = pd.merge(summary_merge, summarystats_df_sem, on='Drug Regimen')\n",
    "\n",
    "summary_merge\n",
    "\n",
    "# This method is the most straighforward, creating multiple series and putting them all together at the end."
   ]
  },
  {
   "cell_type": "markdown",
   "metadata": {},
   "source": [
    "## Bar Plots"
   ]
  },
  {
   "cell_type": "code",
   "execution_count": 152,
   "metadata": {},
   "outputs": [
    {
     "data": {
      "image/png": "[encoded data removed]",
      "text/plain": [
       "<Figure size 648x216 with 1 Axes>"
      ]
     },
     "metadata": {
      "needs_background": "light"
     },
     "output_type": "display_data"
    }
   ],
   "source": [
    "# Generate a bar plot showing number of data points for each treatment regimen using pandas \"datapoints_df = pd.DataFrame(pharma_merge.groupby(['Drug Regimen'])['Drug Regimen'].count())\\n\",\n",
    "datapoints_df = pd.DataFrame(pharma_merge.groupby(['Drug Regimen'])['Drug Regimen'].count())\n",
    "datapoints_df = datapoints_df.rename(columns={'Drug Regimen':'Data Points'})\n",
    "datapoints_df = datapoints_df.reset_index()\n",
    "\n",
    "\n",
    "\n",
    "datapoints_df = pd.DataFrame(pharma_merge.groupby(['Drug Regimen'])['Drug Regimen'].count())\n",
    "datapoints_df = datapoints_df.rename(columns={'Drug Regimen':'Data Points'})\n",
    "datapoints_df = datapoints_df.reset_index()\n",
    "\n",
    "#datapoints_df = datapoints_df.set_index('Drug Regimen')\n",
    "\n",
    "datapoints_df.plot(kind='barh', figsize=(9,3))\n",
    "\n",
    "plt.title('Total Data Points for Drug Trial')\n",
    "plt.show()\n",
    "\n",
    "#create bar chart using pandas"
   ]
  },
  {
   "cell_type": "code",
   "execution_count": 24,
   "metadata": {},
   "outputs": [
    {
     "data": {
      "text/html": [
       "<div>\n",
       "<style scoped>\n",
       "    .dataframe tbody tr th:only-of-type {\n",
       "        vertical-align: middle;\n",
       "    }\n",
       "\n",
       "    .dataframe tbody tr th {\n",
       "        vertical-align: top;\n",
       "    }\n",
       "\n",
       "    .dataframe thead th {\n",
       "        text-align: right;\n",
       "    }\n",
       "</style>\n",
       "<table border=\"1\" class=\"dataframe\">\n",
       "  <thead>\n",
       "    <tr style=\"text-align: right;\">\n",
       "      <th></th>\n",
       "      <th>Data Points</th>\n",
       "    </tr>\n",
       "    <tr>\n",
       "      <th>Drug Regimen</th>\n",
       "      <th></th>\n",
       "    </tr>\n",
       "  </thead>\n",
       "  <tbody>\n",
       "    <tr>\n",
       "      <th>Capomulin</th>\n",
       "      <td>230</td>\n",
       "    </tr>\n",
       "    <tr>\n",
       "      <th>Ceftamin</th>\n",
       "      <td>178</td>\n",
       "    </tr>\n",
       "    <tr>\n",
       "      <th>Infubinol</th>\n",
       "      <td>178</td>\n",
       "    </tr>\n",
       "    <tr>\n",
       "      <th>Ketapril</th>\n",
       "      <td>188</td>\n",
       "    </tr>\n",
       "    <tr>\n",
       "      <th>Naftisol</th>\n",
       "      <td>186</td>\n",
       "    </tr>\n",
       "  </tbody>\n",
       "</table>\n",
       "</div>"
      ],
      "text/plain": [
       "              Data Points\n",
       "Drug Regimen             \n",
       "Capomulin             230\n",
       "Ceftamin              178\n",
       "Infubinol             178\n",
       "Ketapril              188\n",
       "Naftisol              186"
      ]
     },
     "execution_count": 24,
     "metadata": {},
     "output_type": "execute_result"
    }
   ],
   "source": [
    "datapoints_df.head()"
   ]
  },
  {
   "cell_type": "code",
   "execution_count": 154,
   "metadata": {},
   "outputs": [
    {
     "data": {
      "image/png": "[encoded data removed]",
      "text/plain": [
       "<Figure size 648x216 with 1 Axes>"
      ]
     },
     "metadata": {
      "needs_background": "light"
     },
     "output_type": "display_data"
    }
   ],
   "source": [
    "# Generate a bar plot showing number of data points for each treatment regimen using pyplot\n",
    "\n",
    "drug=datapoints_df['Drug Regimen']\n",
    "mousedata=datapoints_df['Data Points']\n",
    "\n",
    "plt.figure(figsize= (9,3))\n",
    "\n",
    "plt.barh(drug, mousedata, color='r', alpha=0.5, align='center')\n",
    "\n",
    "plt.title('Total Data Points for Drug Trial')\n",
    "plt.xlabel('Mouse Data Points')\n",
    "plt.ylabel('Drug Regimen')\n",
    "\n",
    "plt.gca().invert_yaxis()\n",
    "\n",
    "\n",
    "plt.show()"
   ]
  },
  {
   "cell_type": "markdown",
   "metadata": {},
   "source": [
    "## Pie Plots"
   ]
  },
  {
   "cell_type": "code",
   "execution_count": 155,
   "metadata": {},
   "outputs": [
    {
     "data": {
      "text/plain": [
       "([<matplotlib.patches.Wedge at 0x1cc3df9b348>,\n",
       "  <matplotlib.patches.Wedge at 0x1cc3df9b888>],\n",
       " [Text(-0.03308201408261547, 1.0995024239828841, 'Males'),\n",
       "  Text(0.033082014082615095, -1.0995024239828841, 'Females')])"
      ]
     },
     "execution_count": 155,
     "metadata": {},
     "output_type": "execute_result"
    },
    {
     "data": {
      "image/png": "[encoded data removed]",
      "text/plain": [
       "<Figure size 432x288 with 1 Axes>"
      ]
     },
     "metadata": {},
     "output_type": "display_data"
    }
   ],
   "source": [
    "# Generate a pie plot showing the distribution of female versus male mice using pyplot\n",
    "males = pharma_merge[pharma_merge['Sex']=='Male']['Sex'].count()\n",
    "females = pharma_merge[pharma_merge['Sex']=='Female']['Sex'].count()\n",
    "\n",
    "\n",
    "plt.title('Distribution by Gender of Drug Trial Mice')\n",
    "\n",
    "labels = ['Males', 'Females']\n",
    "\n",
    "genders = [males, females]\n",
    "\n",
    "colors = ['blue', 'pink']\n",
    "\n",
    "plt.pie(genders, labels=labels, colors=colors)\n",
    "\n"
   ]
  },
  {
   "cell_type": "markdown",
   "metadata": {},
   "source": [
    "## Quartiles, Outliers and Boxplots"
   ]
  },
  {
   "cell_type": "code",
   "execution_count": 157,
   "metadata": {},
   "outputs": [
    {
     "data": {
      "text/plain": [
       "Drug Regimen\n",
       "Capomulin    21\n",
       "Ceftamin     13\n",
       "Infubinol     9\n",
       "Ketapril     11\n",
       "Naftisol     13\n",
       "Placebo      11\n",
       "Propriva      7\n",
       "Ramicane     20\n",
       "Stelasyn     11\n",
       "Zoniferol    14\n",
       "Name: Mouse ID, dtype: int64"
      ]
     },
     "execution_count": 157,
     "metadata": {},
     "output_type": "execute_result"
    }
   ],
   "source": [
    "#Count the number of mice in each  drug\n",
    "mouse_count=pharma_merge.loc[pharma_merge['Timepoint']==45].groupby('Drug Regimen').count()['Mouse ID']\n",
    "mouse_count"
   ]
  },
  {
   "cell_type": "code",
   "execution_count": 158,
   "metadata": {},
   "outputs": [],
   "source": [
    "# Generate a box plot of the final tumor volume of each mouse across four regimens of interest\n",
    "\n",
    "MiceTreated = pharma_merge.loc[pharma_merge['Timepoint']==45] \n",
    "\n",
    "\n",
    "CapoMice = MiceTreated.loc[MiceTreated['Drug Regimen']=='Capomulin']\n",
    "\n",
    "CapoMice = CapoMice['Tumor Volume (mm3)']\n",
    "CapoMice = CapoMice.reset_index()\n",
    "\n",
    "\n",
    "RamMice = MiceTreated.loc[MiceTreated['Drug Regimen']=='Ramicane']\n",
    "RamMice = RamMice['Tumor Volume (mm3)']\n",
    "RamMice = RamMice.reset_index()\n",
    "\n",
    "InfuMice = MiceTreated.loc[MiceTreated['Drug Regimen']=='Infubinol']\n",
    "InfuMice = InfuMice['Tumor Volume (mm3)']\n",
    "InfuMice = InfuMice.reset_index()\n",
    "\n",
    "CeftMice = MiceTreated.loc[MiceTreated['Drug Regimen']=='Ceftamin']\n",
    "CeftMice = CeftMice['Tumor Volume (mm3)']\n",
    "CeftMice = InfuMice.reset_index()\n",
    "\n",
    "Capdata1=CapoMice['Tumor Volume (mm3)']\n",
    "Ramdata1=RamMice ['Tumor Volume (mm3)']\n",
    "Infudata1=InfuMice['Tumor Volume (mm3)']\n",
    "Ceftdata1=CeftMice['Tumor Volume (mm3)']\n",
    "\n",
    "data_to_plot1=[Capdata1, Capdata1, Capdata1, Capdata1]\n",
    "\n",
    "\n"
   ]
  },
  {
   "cell_type": "code",
   "execution_count": 174,
   "metadata": {},
   "outputs": [
    {
     "data": {
      "image/png": "[encoded data removed]",
      "text/plain": [
       "<Figure size 432x288 with 1 Axes>"
      ]
     },
     "metadata": {
      "needs_background": "light"
     },
     "output_type": "display_data"
    }
   ],
   "source": [
    "fig, ax = plt.subplots()\n",
    "\n",
    "\n",
    "\n",
    "ax.set_title('Final Tumor Volume of Selected Drug Regimens')\n",
    "ax.set_ylabel('Tumor Volume')\n",
    "ax.set_xlabel('Drug Regimens')\n",
    "\n",
    "bp= ax.boxplot(data_to_plot1)\n",
    "plt.show()"
   ]
  },
  {
   "cell_type": "code",
   "execution_count": 163,
   "metadata": {},
   "outputs": [],
   "source": [
    "drug_treatment_df=pharma_merge[[\"Drug Regimen\", 'Mouse ID', 'Tumor Volume (mm3)']]\n",
    "\n",
    "Captreatment_df=drug_treatment_df.loc[drug_treatment_df['Drug Regimen']=='Capomulin']\n",
    "Captreatment_df=Captreatment_df.groupby('Mouse ID').nth(-1)\n",
    "Captreatment_df = Captreatment_df.reset_index()\n",
    "\n",
    "Ramtreatment_df=drug_treatment_df.loc[drug_treatment_df['Drug Regimen']=='Ramicane']\n",
    "Ramtreatment_df=Ramtreatment_df.groupby('Mouse ID').nth(-1)\n",
    "Ramtreatment_df = Ramtreatment_df.reset_index()\n",
    "\n",
    "Infutreatment_df=drug_treatment_df.loc[drug_treatment_df['Drug Regimen']=='Infubinol']\n",
    "Infutreatment_df=Infutreatment_df.groupby('Mouse ID').nth(-1)\n",
    "Infutreatment_df = Infutreatment_df.reset_index()\n",
    "\n",
    "Ceftreatment_df=drug_treatment_df.loc[drug_treatment_df['Drug Regimen']=='Ceftamin']\n",
    "Ceftreatment_df=Ceftreatment_df.groupby('Mouse ID').nth(-1)\n",
    "Ceftreatment_df = Ceftreatment_df.reset_index()\n",
    "\n",
    "Capdata=Captreatment_df['Tumor Volume (mm3)']\n",
    "Ramdata=Ramtreatment_df['Tumor Volume (mm3)']\n",
    "Infudata=Infutreatment_df['Tumor Volume (mm3)']\n",
    "Ceftdata=Ceftreatment_df['Tumor Volume (mm3)']\n",
    "\n",
    "data_to_plot=[Capdata, Ramdata, Infudata, Ceftdata]\n",
    "x_axis_names= ['Capomulin', 'Ramicane', 'Infubinol', 'Ceftamin']\n"
   ]
  },
  {
   "cell_type": "code",
   "execution_count": 173,
   "metadata": {},
   "outputs": [
    {
     "data": {
      "image/png": "[encoded data removed]",
      "text/plain": [
       "<Figure size 432x288 with 1 Axes>"
      ]
     },
     "metadata": {
      "needs_background": "light"
     },
     "output_type": "display_data"
    }
   ],
   "source": [
    "#fix key, check for outliers \n",
    "\n",
    "fig, ax = plt.subplots()\n",
    "\n",
    "\n",
    "\n",
    "ax.set_title('Final Tumor Volume of Selected Drug Regimens')\n",
    "ax.set_ylabel('Tumor Volume')\n",
    "ax.set_xlabel('Drug Regimens')\n",
    "#plt.xticks(4, x_axis_names)    \n",
    "\n",
    "bp= ax.boxplot(data_to_plot)\n",
    "plt.show()"
   ]
  },
  {
   "cell_type": "code",
   "execution_count": 176,
   "metadata": {},
   "outputs": [
    {
     "data": {
      "text/html": [
       "<div>\n",
       "<style scoped>\n",
       "    .dataframe tbody tr th:only-of-type {\n",
       "        vertical-align: middle;\n",
       "    }\n",
       "\n",
       "    .dataframe tbody tr th {\n",
       "        vertical-align: top;\n",
       "    }\n",
       "\n",
       "    .dataframe thead th {\n",
       "        text-align: right;\n",
       "    }\n",
       "</style>\n",
       "<table border=\"1\" class=\"dataframe\">\n",
       "  <thead>\n",
       "    <tr style=\"text-align: right;\">\n",
       "      <th></th>\n",
       "      <th>Mouse ID</th>\n",
       "      <th>Drug Regimen</th>\n",
       "      <th>Tumor Volume (mm3)</th>\n",
       "    </tr>\n",
       "  </thead>\n",
       "  <tbody>\n",
       "    <tr>\n",
       "      <th>0</th>\n",
       "      <td>b128</td>\n",
       "      <td>Capomulin</td>\n",
       "      <td>38.982878</td>\n",
       "    </tr>\n",
       "    <tr>\n",
       "      <th>1</th>\n",
       "      <td>b742</td>\n",
       "      <td>Capomulin</td>\n",
       "      <td>38.939633</td>\n",
       "    </tr>\n",
       "    <tr>\n",
       "      <th>2</th>\n",
       "      <td>f966</td>\n",
       "      <td>Capomulin</td>\n",
       "      <td>30.485985</td>\n",
       "    </tr>\n",
       "    <tr>\n",
       "      <th>3</th>\n",
       "      <td>g288</td>\n",
       "      <td>Capomulin</td>\n",
       "      <td>37.074024</td>\n",
       "    </tr>\n",
       "    <tr>\n",
       "      <th>4</th>\n",
       "      <td>g316</td>\n",
       "      <td>Capomulin</td>\n",
       "      <td>40.159220</td>\n",
       "    </tr>\n",
       "    <tr>\n",
       "      <th>5</th>\n",
       "      <td>i557</td>\n",
       "      <td>Capomulin</td>\n",
       "      <td>47.685963</td>\n",
       "    </tr>\n",
       "    <tr>\n",
       "      <th>6</th>\n",
       "      <td>i738</td>\n",
       "      <td>Capomulin</td>\n",
       "      <td>37.311846</td>\n",
       "    </tr>\n",
       "    <tr>\n",
       "      <th>7</th>\n",
       "      <td>j119</td>\n",
       "      <td>Capomulin</td>\n",
       "      <td>38.125164</td>\n",
       "    </tr>\n",
       "    <tr>\n",
       "      <th>8</th>\n",
       "      <td>j246</td>\n",
       "      <td>Capomulin</td>\n",
       "      <td>38.753265</td>\n",
       "    </tr>\n",
       "    <tr>\n",
       "      <th>9</th>\n",
       "      <td>l509</td>\n",
       "      <td>Capomulin</td>\n",
       "      <td>41.483008</td>\n",
       "    </tr>\n",
       "    <tr>\n",
       "      <th>10</th>\n",
       "      <td>l897</td>\n",
       "      <td>Capomulin</td>\n",
       "      <td>38.846876</td>\n",
       "    </tr>\n",
       "    <tr>\n",
       "      <th>11</th>\n",
       "      <td>m601</td>\n",
       "      <td>Capomulin</td>\n",
       "      <td>28.430964</td>\n",
       "    </tr>\n",
       "    <tr>\n",
       "      <th>12</th>\n",
       "      <td>m957</td>\n",
       "      <td>Capomulin</td>\n",
       "      <td>33.329098</td>\n",
       "    </tr>\n",
       "    <tr>\n",
       "      <th>13</th>\n",
       "      <td>r157</td>\n",
       "      <td>Capomulin</td>\n",
       "      <td>46.539206</td>\n",
       "    </tr>\n",
       "    <tr>\n",
       "      <th>14</th>\n",
       "      <td>r554</td>\n",
       "      <td>Capomulin</td>\n",
       "      <td>32.377357</td>\n",
       "    </tr>\n",
       "    <tr>\n",
       "      <th>15</th>\n",
       "      <td>r944</td>\n",
       "      <td>Capomulin</td>\n",
       "      <td>41.581521</td>\n",
       "    </tr>\n",
       "    <tr>\n",
       "      <th>16</th>\n",
       "      <td>s185</td>\n",
       "      <td>Capomulin</td>\n",
       "      <td>23.343598</td>\n",
       "    </tr>\n",
       "    <tr>\n",
       "      <th>17</th>\n",
       "      <td>s710</td>\n",
       "      <td>Capomulin</td>\n",
       "      <td>40.728578</td>\n",
       "    </tr>\n",
       "    <tr>\n",
       "      <th>18</th>\n",
       "      <td>t565</td>\n",
       "      <td>Capomulin</td>\n",
       "      <td>34.455298</td>\n",
       "    </tr>\n",
       "    <tr>\n",
       "      <th>19</th>\n",
       "      <td>u364</td>\n",
       "      <td>Capomulin</td>\n",
       "      <td>31.023923</td>\n",
       "    </tr>\n",
       "    <tr>\n",
       "      <th>20</th>\n",
       "      <td>v923</td>\n",
       "      <td>Capomulin</td>\n",
       "      <td>40.658124</td>\n",
       "    </tr>\n",
       "    <tr>\n",
       "      <th>21</th>\n",
       "      <td>w150</td>\n",
       "      <td>Capomulin</td>\n",
       "      <td>39.952347</td>\n",
       "    </tr>\n",
       "    <tr>\n",
       "      <th>22</th>\n",
       "      <td>w914</td>\n",
       "      <td>Capomulin</td>\n",
       "      <td>36.041047</td>\n",
       "    </tr>\n",
       "    <tr>\n",
       "      <th>23</th>\n",
       "      <td>x401</td>\n",
       "      <td>Capomulin</td>\n",
       "      <td>28.484033</td>\n",
       "    </tr>\n",
       "    <tr>\n",
       "      <th>24</th>\n",
       "      <td>y793</td>\n",
       "      <td>Capomulin</td>\n",
       "      <td>31.896238</td>\n",
       "    </tr>\n",
       "  </tbody>\n",
       "</table>\n",
       "</div>"
      ],
      "text/plain": [
       "   Mouse ID Drug Regimen  Tumor Volume (mm3)\n",
       "0      b128    Capomulin           38.982878\n",
       "1      b742    Capomulin           38.939633\n",
       "2      f966    Capomulin           30.485985\n",
       "3      g288    Capomulin           37.074024\n",
       "4      g316    Capomulin           40.159220\n",
       "5      i557    Capomulin           47.685963\n",
       "6      i738    Capomulin           37.311846\n",
       "7      j119    Capomulin           38.125164\n",
       "8      j246    Capomulin           38.753265\n",
       "9      l509    Capomulin           41.483008\n",
       "10     l897    Capomulin           38.846876\n",
       "11     m601    Capomulin           28.430964\n",
       "12     m957    Capomulin           33.329098\n",
       "13     r157    Capomulin           46.539206\n",
       "14     r554    Capomulin           32.377357\n",
       "15     r944    Capomulin           41.581521\n",
       "16     s185    Capomulin           23.343598\n",
       "17     s710    Capomulin           40.728578\n",
       "18     t565    Capomulin           34.455298\n",
       "19     u364    Capomulin           31.023923\n",
       "20     v923    Capomulin           40.658124\n",
       "21     w150    Capomulin           39.952347\n",
       "22     w914    Capomulin           36.041047\n",
       "23     x401    Capomulin           28.484033\n",
       "24     y793    Capomulin           31.896238"
      ]
     },
     "execution_count": 176,
     "metadata": {},
     "output_type": "execute_result"
    }
   ],
   "source": [
    "Captreatment_df"
   ]
  },
  {
   "cell_type": "code",
   "execution_count": 181,
   "metadata": {},
   "outputs": [
    {
     "name": "stdout",
     "output_type": "stream",
     "text": [
      "The lower quartile of tumor volume in the Capomullin treatment is: 32.37735684\n",
      "The upper quartile of tumor volume in the Capomullin treatment is: 40.1592203\n",
      "The interquartile range of tumor volume in the Capomullin treatment is: 7.781863460000004\n",
      "The the median of tumor volume in the Capomullin treatment is: 38.125164399999996 \n",
      "Values below 20.70456164999999 could be outliers.\n",
      "Values above 51.83201549 could be outliers.\n",
      "-----------------------------------------------------------------------\n",
      "The lower quartile of tumor volume in the Ramicane treatment is: 32.37735684\n",
      "The upper quartile of tumor volume in the Ramicane treatment is: 40.1592203\n",
      "The interquartile range of tumor volume in the Ramicane treatment is: 7.781863460000004\n",
      "The the median of tumor volume in the Ramicane treatment is: 38.125164399999996 \n",
      "Values below 20.70456164999999 could be outliers.\n",
      "Values above 51.83201549 could be outliers.\n",
      "-----------------------------------------------------------------------\n",
      "The lower quartile of tumor volume in the Infubinol treatment is: 54.04860769\n",
      "The upper quartile of tumor volume in the Infubinol treatment is: 65.52574285\n",
      "The interquartile range of tumor volume in the Infubinol treatment is: 11.477135160000003\n",
      "The the median of tumor volume in the Infubinol treatment is: 60.16518046 \n",
      "Values below 36.83290494999999 could be outliers.\n",
      "Values above 82.74144559000001 could be outliers.\n",
      "-----------------------------------------------------------------------\n",
      "The lower quartile of tumor volume in the Ceftamin treatment is: 48.72207785\n",
      "The upper quartile of tumor volume in the Ceftamin treatment is: 64.29983003\n",
      "The interquartile range of tumor volume in the Ceftamin treatment is: 15.577752179999997\n",
      "The the median of tumor volume in the Ceftamin treatment is: 59.85195552 \n",
      "Values below 25.355449580000002 could be outliers.\n",
      "Values above 87.66645829999999 could be outliers.\n",
      "-----------------------------------------------------------------------\n"
     ]
    }
   ],
   "source": [
    "# Calculate the final tumor volume of each mouse across four of the most promising treatment regimens. Calculate the IQR and quantitatively determin\n",
    "#calculate quartiles\n",
    "\n",
    "quartiles = Captreatment_df['Tumor Volume (mm3)'].quantile([.25,.5,.75])\n",
    "lowerq = quartiles[0.25]\n",
    "upperq = quartiles[0.75]\n",
    "iqr = upperq-lowerq\n",
    "\n",
    "\n",
    "print(f\"The lower quartile of tumor volume in the Capomullin treatment is: {lowerq}\")\n",
    "print(f\"The upper quartile of tumor volume in the Capomullin treatment is: {upperq}\")\n",
    "print(f\"The interquartile range of tumor volume in the Capomullin treatment is: {iqr}\")\n",
    "print(f\"The the median of tumor volume in the Capomullin treatment is: {quartiles[0.5]} \")\n",
    "\n",
    "lower_bound = lowerq - (1.5*iqr)\n",
    "upper_bound = upperq + (1.5*iqr)\n",
    "\n",
    "print(f\"Values below {lower_bound} could be outliers.\")\n",
    "print(f\"Values above {upper_bound} could be outliers.\")\n",
    "\n",
    "print(f'-----------------------------------------------------------------------')\n",
    "\n",
    "\n",
    "capquartiles = Ramtreatment_df['Tumor Volume (mm3)'].quantile([.25,.5,.75])\n",
    "caplowerq = quartiles[0.25]\n",
    "capupperq = quartiles[0.75]\n",
    "iqr = upperq-lowerq\n",
    "\n",
    "print(f\"The lower quartile of tumor volume in the Ramicane treatment is: {lowerq}\")\n",
    "print(f\"The upper quartile of tumor volume in the Ramicane treatment is: {upperq}\")\n",
    "print(f\"The interquartile range of tumor volume in the Ramicane treatment is: {iqr}\")\n",
    "print(f\"The the median of tumor volume in the Ramicane treatment is: {quartiles[0.5]} \")\n",
    "\n",
    "lower_bound = lowerq - (1.5*iqr)\n",
    "upper_bound = upperq + (1.5*iqr)\n",
    "print(f\"Values below {lower_bound} could be outliers.\")\n",
    "print(f\"Values above {upper_bound} could be outliers.\")\n",
    "\n",
    "print(f'-----------------------------------------------------------------------')\n",
    "\n",
    "quartiles = Infutreatment_df['Tumor Volume (mm3)'].quantile([.25,.5,.75])\n",
    "lowerq = quartiles[0.25]\n",
    "upperq = quartiles[0.75]\n",
    "iqr = upperq-lowerq\n",
    "\n",
    "print(f\"The lower quartile of tumor volume in the Infubinol treatment is: {lowerq}\")\n",
    "print(f\"The upper quartile of tumor volume in the Infubinol treatment is: {upperq}\")\n",
    "print(f\"The interquartile range of tumor volume in the Infubinol treatment is: {iqr}\")\n",
    "print(f\"The the median of tumor volume in the Infubinol treatment is: {quartiles[0.5]} \")\n",
    "\n",
    "lower_bound = lowerq - (1.5*iqr)\n",
    "upper_bound = upperq + (1.5*iqr)\n",
    "print(f\"Values below {lower_bound} could be outliers.\")\n",
    "print(f\"Values above {upper_bound} could be outliers.\")\n",
    "\n",
    "print(f'-----------------------------------------------------------------------')\n",
    "\n",
    "quartiles = Ceftreatment_df['Tumor Volume (mm3)'].quantile([.25,.5,.75])\n",
    "lowerq = quartiles[0.25]\n",
    "upperq = quartiles[0.75]\n",
    "iqr = upperq-lowerq\n",
    "\n",
    "print(f\"The lower quartile of tumor volume in the Ceftamin treatment is: {lowerq}\")\n",
    "print(f\"The upper quartile of tumor volume in the Ceftamin treatment is: {upperq}\")\n",
    "print(f\"The interquartile range of tumor volume in the Ceftamin treatment is: {iqr}\")\n",
    "print(f\"The the median of tumor volume in the Ceftamin treatment is: {quartiles[0.5]} \")\n",
    "\n",
    "lower_bound = lowerq - (1.5*iqr)\n",
    "upper_bound = upperq + (1.5*iqr)\n",
    "print(f\"Values below {lower_bound} could be outliers.\")\n",
    "print(f\"Values above {upper_bound} could be outliers.\")\n",
    "\n",
    "print(f'-----------------------------------------------------------------------')\n",
    "\n",
    "#print(f'As shown in the box and whiskers chart, there are no outliers for final tumor volume of any of the four treatments.')\n",
    "\n",
    "\n",
    "\n",
    "\n",
    "\n",
    "\n"
   ]
  },
  {
   "cell_type": "code",
   "execution_count": null,
   "metadata": {},
   "outputs": [],
   "source": []
  },
  {
   "cell_type": "markdown",
   "metadata": {},
   "source": [
    "## Line and Scatter Plots"
   ]
  },
  {
   "cell_type": "code",
   "execution_count": 161,
   "metadata": {},
   "outputs": [
    {
     "data": {
      "image/png": "[encoded data removed]",
      "text/plain": [
       "<Figure size 432x288 with 1 Axes>"
      ]
     },
     "metadata": {
      "needs_background": "light"
     },
     "output_type": "display_data"
    }
   ],
   "source": [
    "# Generate a line plot of time point versus tumor volume for a mouse treated with Capomulin\n",
    "Cap_Mouse = pharma_merge.loc[pharma_merge['Drug Regimen']== 'Capomulin'] \n",
    "\n",
    "Cap_Mouse = Cap_Mouse.loc[Cap_Mouse['Mouse ID'] == 's185']\n",
    "\n",
    "Cap_Mouse = Cap_Mouse.reset_index()\n",
    "\n",
    "plt.title('Tumor Volume of One Mouse on Capomulin')\n",
    "plt.ylabel('Tumor Volume')\n",
    "plt.xlabel('Days of Treatment')\n",
    "\n",
    "x_axis_data = Cap_Mouse['Timepoint']\n",
    "y_axis_data = Cap_Mouse['Tumor Volume (mm3)']\n",
    "\n",
    "plt.plot(x_axis_data, y_axis_data)\n",
    "plt.show()"
   ]
  },
  {
   "cell_type": "code",
   "execution_count": 80,
   "metadata": {},
   "outputs": [
    {
     "data": {
      "image/png": "[encoded data removed]",
      "text/plain": [
       "<Figure size 432x288 with 1 Axes>"
      ]
     },
     "metadata": {
      "needs_background": "light"
     },
     "output_type": "display_data"
    }
   ],
   "source": [
    "# Generate a scatter plot of mouse weight versus average tumor volume for the Capomulin regimen\n",
    "\n",
    "Capscatter_df=pharma_merge[[\"Mouse ID\", \"Drug Regimen\", 'Weight (g)', \"Tumor Volume (mm3)\"]]\n",
    "\n",
    "Capmice=Capscatter_df[(Capscatter_df['Drug Regimen'] == 'Capomulin')]\n",
    "\n",
    "Capmicemean=Capmice.groupby(['Mouse ID', 'Weight (g)']).mean()['Tumor Volume (mm3)']\n",
    "\n",
    "Capmicemean=Capmicemean.reset_index()\n",
    "\n",
    "Capmicemean.plot(kind='scatter', x='Weight (g)', y='Tumor Volume (mm3)', grid=True, title = \"Mouse vs. Tumor Volume (mm3) in Capomulin treatment\")\n",
    "\n",
    "plt.show()\n",
    "\n",
    "\n",
    "\n"
   ]
  },
  {
   "cell_type": "markdown",
   "metadata": {},
   "source": [
    "## Correlation and Regression"
   ]
  },
  {
   "cell_type": "code",
   "execution_count": 162,
   "metadata": {},
   "outputs": [
    {
     "name": "stdout",
     "output_type": "stream",
     "text": [
      "The correlation between both factors is 0.84\n"
     ]
    },
    {
     "data": {
      "image/png": "[encoded data removed]",
      "text/plain": [
       "<Figure size 432x288 with 1 Axes>"
      ]
     },
     "metadata": {
      "needs_background": "light"
     },
     "output_type": "display_data"
    }
   ],
   "source": [
    "# Calculate the correlation coefficient and linear regression model \n",
    "# for mouse weight and average tumor volume for the Capomulin regimen\n",
    "\n",
    "x_values = Capmicemean['Weight (g)']\n",
    "y_values = Capmicemean['Tumor Volume (mm3)']\n",
    "correlation = st.pearsonr(x_values, y_values)\n",
    "\n",
    "\n",
    "(slope, intercept, rvalue, pvalue, stderr) = linregress(x_values, y_values)\n",
    "regress_values = x_values * slope + intercept\n",
    "line_eq = \"y = \" + str(round(slope,2)) + \"x + \" + str(round(intercept,2))\n",
    "\n",
    "plt.scatter(x_values,y_values)\n",
    "plt.plot(x_values,regress_values,\"r-\")\n",
    "plt.annotate(line_eq,(6,10),fontsize=15,color=\"red\")\n",
    "plt.title('Regression of Mice in Capomulin Treatment')\n",
    "plt.xlabel('Weight (g)')\n",
    "plt.ylabel('Tumor Volume (mm3)')\n",
    "\n",
    "print(f\"The correlation between both factors is {round(correlation[0],2)}\")\n",
    "\n",
    "plt.show()\n",
    "\n",
    "\n",
    "\n"
   ]
  },
  {
   "cell_type": "code",
   "execution_count": null,
   "metadata": {},
   "outputs": [],
   "source": [
    "\n"
   ]
  },
  {
   "cell_type": "code",
   "execution_count": null,
   "metadata": {},
   "outputs": [],
   "source": []
  }
 ],
 "metadata": {
  "anaconda-cloud": {},
  "kernelspec": {
   "display_name": "Python 3",
   "language": "python",
   "name": "python3"
  },
  "language_info": {
   "codemirror_mode": {
    "name": "ipython",
    "version": 3
   },
   "file_extension": ".py",
   "mimetype": "text/x-python",
   "name": "python",
   "nbconvert_exporter": "python",
   "pygments_lexer": "ipython3",
   "version": "3.7.6"
  }
 },
 "nbformat": 4,
 "nbformat_minor": 2
}
